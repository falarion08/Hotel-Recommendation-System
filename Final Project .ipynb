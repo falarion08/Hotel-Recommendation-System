{
 "cells": [
  {
   "cell_type": "code",
   "execution_count": 39,
   "id": "1135bcd3",
   "metadata": {},
   "outputs": [],
   "source": [
    "import pandas as pd\n",
    "from selenium import webdriver\n",
    "from selenium.webdriver.common.keys import Keys\n",
    "from selenium.webdriver.common.by import By\n",
    "from selenium.common import exceptions  \n",
    "from time import sleep\n",
    "from unidecode import unidecode\n",
    "from random import randint"
   ]
  },
  {
   "cell_type": "code",
   "execution_count": 40,
   "id": "88c2fc8a",
   "metadata": {
    "scrolled": true
   },
   "outputs": [
    {
     "name": "stderr",
     "output_type": "stream",
     "text": [
      "C:\\Users\\ryana\\AppData\\Local\\Temp\\ipykernel_18248\\1940692324.py:3: DeprecationWarning: executable_path has been deprecated, please pass in a Service object\n",
      "  driver = webdriver.Chrome(drive_path)\n"
     ]
    }
   ],
   "source": [
    "drive_path = './Driver/chromedriver.exe'\n",
    "url = 'https://www.agoda.com/search?area=571269&locale=en-us&ckuid=5edb8609-7640-481d-bc3c-8e003673c7bf&prid=0&currency=PHP&correlationId=ce0d70a1-0b41-441b-a8c4-7653f5367d9c&analyticsSessionId=6832091592958727653&pageTypeId=103&realLanguageId=1&languageId=1&origin=PH&cid=1844104&userId=5edb8609-7640-481d-bc3c-8e003673c7bf&whitelabelid=1&loginLvl=0&storefrontId=3&currencyId=18&currencyCode=PHP&htmlLanguage=en-us&cultureInfoName=en-us&machineName=sg-pc-6g-acm-web-user-84b57d4c78-t7jm9&trafficGroupId=1&sessionId=0jcltzjj2cqf4knqndmcx4rb&trafficSubGroupId=84&aid=130589&useFullPageLogin=true&cttp=4&isRealUser=true&mode=production&browserFamily=Chrome&checkIn=2023-07-24&checkOut=2023-07-25&rooms=1&adults=2&children=0&priceCur=PHP&los=1&textToSearch=Bonifacio%20Global%20City%20(BGC)%20%2F%20Taguig&travellerType=1&familyMode=off&productType=-1'\n",
    "driver = webdriver.Chrome(drive_path)\n",
    "\n",
    "driver.get(url)"
   ]
  },
  {
   "cell_type": "code",
   "execution_count": 41,
   "id": "961f5274",
   "metadata": {},
   "outputs": [],
   "source": [
    "def scrollDown():\n",
    "    lastHeight = driver.execute_script(\"return document.body.scrollHeight\")\n",
    "    while True:\n",
    "        driver.execute_script(\"window.scrollTo(0, document.body.scrollHeight);\")\n",
    "        sleep(0.5)\n",
    "        newHeight = driver.execute_script(\"return document.body.scrollHeight\")\n",
    "        if newHeight == lastHeight:\n",
    "            break\n",
    "        lastHeight = newHeight\n",
    "\n",
    "def getHotelLinks():\n",
    "    \n",
    "    scrollDown()\n",
    "    sleep(7)\n",
    "    links = driver.find_elements(By.XPATH, \"//a[@class = 'PropertyCard__Link']\")\n",
    "    sleep(5)\n",
    "    \n",
    "    for i in range(len(links)):\n",
    "        links[i] = links[i].get_property(name = 'href')\n",
    "\n",
    "    try:\n",
    "        next_button = driver.find_element(By.XPATH, \"//button[@id = 'paginationNext']\")\n",
    "    except(exceptions.NoSuchElementException):\n",
    "        next_button = None\n",
    "\n",
    "    return (next_button, links)"
   ]
  },
  {
   "cell_type": "code",
   "execution_count": 42,
   "id": "88053eef",
   "metadata": {},
   "outputs": [],
   "source": [
    "links = []\n",
    "\n",
    "while True:\n",
    "    sleep(5)\n",
    "    args = getHotelLinks()\n",
    "    links = links + args[1]    \n",
    "    if args[0] == None:\n",
    "        break\n",
    "    else:\n",
    "        args[0].click()"
   ]
  },
  {
   "cell_type": "code",
   "execution_count": 43,
   "id": "e1e43475",
   "metadata": {},
   "outputs": [
    {
     "data": {
      "text/plain": [
       "289"
      ]
     },
     "execution_count": 43,
     "metadata": {},
     "output_type": "execute_result"
    }
   ],
   "source": [
    "len(links)"
   ]
  },
  {
   "cell_type": "code",
   "execution_count": 44,
   "id": "d06ad8fa",
   "metadata": {},
   "outputs": [],
   "source": [
    "def getHotelFeaturesDataFrame():\n",
    "    hotelID = driver.find_element(By.XPATH, \"//p[@class ='HeaderCerebrum__Name']\").text\n",
    "    features = driver.find_elements(By.XPATH,\"//div[@data-element-name ='abouthotel-amenities-facilities']//div[@class = 'Box-sc-kv6pi1-0 dtSdUZ']\")\n",
    "    temp = []\n",
    "    sleep(3)\n",
    "\n",
    "    if features[0].text.split('\\n')[0] == 'Languages spoken':\n",
    "        features.pop(0)\n",
    "\n",
    "    for i in range(len(features)):\n",
    "        temp = temp + features[i].text.split('\\n')[1:]\n",
    "\n",
    "    sub_fac_df = pd.DataFrame({'hotel_ID': hotelID,\n",
    "                          'property_feature':temp})\n",
    "    return sub_fac_df\n",
    "\n",
    "def getCustomerReviewsDataFrame():\n",
    "    usernames = []\n",
    "    user_rating = []\n",
    "\n",
    "    hotelID = driver.find_element(By.XPATH, \"//p[@class ='HeaderCerebrum__Name']\").text\n",
    "    user_info = driver.find_elements(By.XPATH, \"//div[@data-info-type='reviewer-name']\")\n",
    "    ratings = driver.find_elements(By.XPATH, \"//div[@class = 'Review-comment-leftScore']\")\n",
    "    sleep(6)\n",
    "    for i in range(len(user_info)):\n",
    "        usernames.append(unidecode(user_info[i].text.split()[0]).strip())\n",
    "        user_rating.append(float(ratings[i].text))\n",
    "\n",
    "    user_df = pd.DataFrame({\n",
    "        'userID': usernames,\n",
    "        'Rating':user_rating,\n",
    "        'hotel_ID': hotelID\n",
    "    })\n",
    "    return user_df"
   ]
  },
  {
   "cell_type": "code",
   "execution_count": 45,
   "id": "65fed663",
   "metadata": {},
   "outputs": [],
   "source": [
    "features_df = pd.DataFrame(columns = ['hotel_ID', 'property_feature'])\n",
    "users_df = pd.DataFrame(columns = ['userID', 'Rating'])"
   ]
  },
  {
   "cell_type": "code",
   "execution_count": 46,
   "id": "0cde3135",
   "metadata": {},
   "outputs": [
    {
     "name": "stdout",
     "output_type": "stream",
     "text": [
      "Exception Occured\n"
     ]
    }
   ],
   "source": [
    "counter = 0\n",
    "\n",
    "while counter < len(links):\n",
    "    try:\n",
    "        driver.get(links[counter])\n",
    "        sleep(5)\n",
    "        scrollDown()\n",
    "        sleep(randint(3,7))\n",
    "        features_df = pd.concat([features_df,getHotelFeaturesDataFrame()], ignore_index= True)\n",
    "        users_df = pd.concat([users_df, getCustomerReviewsDataFrame()], ignore_index = True)\n",
    "        \n",
    "        counter = counter + 1\n",
    "        \n",
    "    except:\n",
    "        print('Exception Occured')\n",
    "        sleep(randint(60,80))\n",
    "        driver.refresh()"
   ]
  },
  {
   "cell_type": "code",
   "execution_count": null,
   "id": "7ba2298f",
   "metadata": {},
   "outputs": [],
   "source": [
    "users_df.to_csv('user_ratings.csv', index=False)\n",
    "features_df.to_csv('hotel_features.csv', index=False)"
   ]
  }
 ],
 "metadata": {
  "kernelspec": {
   "display_name": "Python 3 (ipykernel)",
   "language": "python",
   "name": "python3"
  },
  "language_info": {
   "codemirror_mode": {
    "name": "ipython",
    "version": 3
   },
   "file_extension": ".py",
   "mimetype": "text/x-python",
   "name": "python",
   "nbconvert_exporter": "python",
   "pygments_lexer": "ipython3",
   "version": "3.9.12"
  }
 },
 "nbformat": 4,
 "nbformat_minor": 5
}
