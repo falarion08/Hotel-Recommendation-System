{
 "cells": [
  {
   "cell_type": "code",
   "execution_count": null,
   "id": "1135bcd3",
   "metadata": {},
   "outputs": [],
   "source": [
    "import pandas as pd\n",
    "from selenium import webdriver\n",
    "from selenium.webdriver.common.keys import Keys\n",
    "from selenium.webdriver.common.by import By\n",
    "from selenium.common import exceptions  \n",
    "import requests\n",
    "from time import sleep"
   ]
  },
  {
   "cell_type": "markdown",
   "id": "10b0d472",
   "metadata": {},
   "source": [
    "<!-- #region -->\n",
    "Hey\n",
    "<!-- #endregion -->"
   ]
  },
  {
   "cell_type": "code",
   "execution_count": 35,
   "id": "88c2fc8a",
   "metadata": {
    "scrolled": true
   },
   "outputs": [
    {
     "name": "stderr",
     "output_type": "stream",
     "text": [
      "C:\\Users\\ryana\\AppData\\Local\\Temp\\ipykernel_7596\\2977152004.py:3: DeprecationWarning: executable_path has been deprecated, please pass in a Service object\n",
      "  driver = webdriver.Chrome(drive_path)\n"
     ]
    }
   ],
   "source": [
    "drive_path = './Driver/chromedriver.exe'\n",
    "url = 'https://www.agoda.com/search?area=571269&locale=en-us&ckuid=5edb8609-7640-481d-bc3c-8e003673c7bf&prid=0&currency=PHP&correlationId=ce0d70a1-0b41-441b-a8c4-7653f5367d9c&analyticsSessionId=6832091592958727653&pageTypeId=103&realLanguageId=1&languageId=1&origin=PH&cid=1844104&userId=5edb8609-7640-481d-bc3c-8e003673c7bf&whitelabelid=1&loginLvl=0&storefrontId=3&currencyId=18&currencyCode=PHP&htmlLanguage=en-us&cultureInfoName=en-us&machineName=sg-pc-6g-acm-web-user-84b57d4c78-t7jm9&trafficGroupId=1&sessionId=0jcltzjj2cqf4knqndmcx4rb&trafficSubGroupId=84&aid=130589&useFullPageLogin=true&cttp=4&isRealUser=true&mode=production&browserFamily=Chrome&checkIn=2023-07-24&checkOut=2023-07-25&rooms=1&adults=2&children=0&priceCur=PHP&los=1&textToSearch=Bonifacio%20Global%20City%20(BGC)%20%2F%20Taguig&travellerType=1&familyMode=off&productType=-1'\n",
    "driver = webdriver.Chrome(drive_path)\n",
    "\n",
    "driver.get(url)\n",
    "\n"
   ]
  },
  {
   "cell_type": "code",
   "execution_count": 32,
   "id": "961f5274",
   "metadata": {},
   "outputs": [],
   "source": [
    "def scrollDown():\n",
    "    lastHeight = driver.execute_script(\"return document.body.scrollHeight\")\n",
    "    while True:\n",
    "        driver.execute_script(\"window.scrollTo(0, document.body.scrollHeight);\")\n",
    "        sleep(0.5)\n",
    "        newHeight = driver.execute_script(\"return document.body.scrollHeight\")\n",
    "        if newHeight == lastHeight:\n",
    "            break\n",
    "        lastHeight = newHeight\n"
   ]
  },
  {
   "cell_type": "code",
   "execution_count": 33,
   "id": "690e2fb3",
   "metadata": {},
   "outputs": [],
   "source": [
    "def getHotelLinks():\n",
    "    \n",
    "    scrollDown()\n",
    "    \n",
    "    links = driver.find_elements(By.XPATH, \"//a[@class = 'PropertyCard__Link']\")\n",
    "\n",
    "    sleep(10)\n",
    "\n",
    "    for i in range(len(links)):\n",
    "        links[i] = links[i].get_property(name = 'href')\n",
    "\n",
    "    try:\n",
    "        next_button = driver.find_element(By.XPATH, \"//button[@id = 'paginationNext']\")\n",
    "    except(exceptions.NoSuchElementException):\n",
    "        next_button = None\n",
    "    \n",
    "    return (next_button, links)"
   ]
  },
  {
   "cell_type": "code",
   "execution_count": 36,
   "id": "88053eef",
   "metadata": {},
   "outputs": [
    {
     "name": "stdout",
     "output_type": "stream",
     "text": [
      "53\n",
      "98\n"
     ]
    }
   ],
   "source": [
    "links = []\n",
    "\n",
    "while True:\n",
    "    sleep(5)\n",
    "    args = getHotelLinks()\n",
    "    links = links + args[1]\n",
    "    print(len(args[1]))\n",
    "    \n",
    "    if args[0] == None:\n",
    "        break\n",
    "    else:\n",
    "        args[0].click()"
   ]
  },
  {
   "cell_type": "code",
   "execution_count": null,
   "id": "e1e43475",
   "metadata": {},
   "outputs": [],
   "source": [
    "len(links)"
   ]
  },
  {
   "cell_type": "code",
   "execution_count": null,
   "id": "6db60bae",
   "metadata": {},
   "outputs": [],
   "source": [
    "fac_df = pd.DataFrame(columns = ['hotel_ID','Facilities'])\n"
   ]
  },
  {
   "cell_type": "code",
   "execution_count": null,
   "id": "94da378b",
   "metadata": {},
   "outputs": [],
   "source": [
    "driver.get(links[199])\n",
    "sleep(2)\n",
    "scrollDown()"
   ]
  },
  {
   "cell_type": "code",
   "execution_count": null,
   "id": "0d244793",
   "metadata": {},
   "outputs": [],
   "source": [
    "hotelID = driver.find_element(By.XPATH, \"//p[@class = 'HeaderCerebrum__Name']\").text\n",
    "facilities = driver.find_element(By.XPATH,\"//div[@data-element-name ='abouthotel-amenities-facilities']\")\n",
    "\n",
    "facilities = facilities.find_elements(By.XPATH,'//span')\n",
    "\n",
    "for i in range(len(facilities)):\n",
    "    facilities[i] = facilities[i].text\n",
    "facilities"
   ]
  },
  {
   "cell_type": "code",
   "execution_count": null,
   "id": "2013b495",
   "metadata": {},
   "outputs": [],
   "source": [
    "driver.get(links[20])\n"
   ]
  },
  {
   "cell_type": "code",
   "execution_count": null,
   "id": "e769418b",
   "metadata": {},
   "outputs": [],
   "source": [
    "sub_fac_df = pd.DataFrame({'hotel_ID': hotelID,\n",
    "                      'property_feature':facilities})\n",
    "# fac_df = pd.concat([fac_df, sub_fac_df], ignore_index = True)\n"
   ]
  },
  {
   "cell_type": "code",
   "execution_count": null,
   "id": "d06ad8fa",
   "metadata": {},
   "outputs": [],
   "source": [
    "sub_fac_df"
   ]
  }
 ],
 "metadata": {
  "kernelspec": {
   "display_name": "Python 3 (ipykernel)",
   "language": "python",
   "name": "python3"
  },
  "language_info": {
   "codemirror_mode": {
    "name": "ipython",
    "version": 3
   },
   "file_extension": ".py",
   "mimetype": "text/x-python",
   "name": "python",
   "nbconvert_exporter": "python",
   "pygments_lexer": "ipython3",
   "version": "3.9.12"
  }
 },
 "nbformat": 4,
 "nbformat_minor": 5
}
